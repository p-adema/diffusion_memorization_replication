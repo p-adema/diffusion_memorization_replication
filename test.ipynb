{
 "cells": [
  {
   "metadata": {},
   "cell_type": "markdown",
   "source": "This notebook can be run on Colab GPU machines",
   "id": "ce59902e6b1e773d"
  },
  {
   "cell_type": "code",
   "execution_count": null,
   "id": "initial_id",
   "metadata": {
    "collapsed": true
   },
   "outputs": [],
   "source": [
    "# Installation takes just under a minute\n",
    "# This collection of packages can make Pip successfully avoid dependency conflicts on the current version of Colab\n",
    "!pip install --quiet accelerate==0.21.0 datasets==2.15 diffusers==0.18.2 dill==0.3.7 flax==0.8.4 multiprocess==0.70.15 optax==0.2.2 orbax-checkpoint==0.5.16 tokenizers==0.13.3 transformers==4.30.2 xxhash==3.5.0 gcsfs==2023.10.0 \"jax[cuda12_pip]==0.4.23\" -f 'https://storage.googleapis.com/jax-releases/jax_cuda_releases.html'\n",
    "import os\n",
    "if 'diffusion_memorization_replication' not in os.getcwd():\n",
    "    !git clone --quiet https://github.com/p-adema/diffusion_memorization_replication\n",
    "    os.chdir(\"diffusion_memorization_replication\")"
   ]
  },
  {
   "metadata": {},
   "cell_type": "code",
   "outputs": [],
   "execution_count": null,
   "source": "!python detect_mem.py --run_name memorized_prompts --dataset examples/sdv1_500_memorized.jsonl --end 5 --gen_seed 0",
   "id": "f968df816e74ce8e"
  },
  {
   "metadata": {},
   "cell_type": "code",
   "outputs": [],
   "execution_count": null,
   "source": "!python detect_mem.py --run_name non_memorized_prompts --dataset Gustavosta/Stable-Diffusion-Prompts --end 5 --gen_seed 0",
   "id": "b2e3ebbe61969a67"
  }
 ],
 "metadata": {
  "kernelspec": {
   "display_name": "Python 3",
   "language": "python",
   "name": "python3"
  },
  "language_info": {
   "codemirror_mode": {
    "name": "ipython",
    "version": 2
   },
   "file_extension": ".py",
   "mimetype": "text/x-python",
   "name": "python",
   "nbconvert_exporter": "python",
   "pygments_lexer": "ipython2",
   "version": "2.7.6"
  }
 },
 "nbformat": 4,
 "nbformat_minor": 5
}
