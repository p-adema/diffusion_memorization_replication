{
 "cells": [
  {
   "metadata": {},
   "cell_type": "markdown",
   "source": "This notebook can be run on Colab",
   "id": "ce59902e6b1e773d"
  },
  {
   "cell_type": "code",
   "execution_count": null,
   "id": "initial_id",
   "metadata": {
    "collapsed": true
   },
   "outputs": [],
   "source": [
    "!git clone https://github.com/p-adema/diffusion_memorization_replication\n",
    "!pip install 'datasets==2.14.4' 'pyarrow<15.0.0a0,>=14.0.1' 'fsspec==2024.6.1' 'diffusers==0.18.2' 'accelerate==0.21.0' 'transformers==4.30.2' \"jax[cuda12_pip]==0.4.23\" -f 'https://storage.googleapis.com/jax-releases/jax_cuda_releases.html' orbax-checkpoint flax optax\n",
    "import os\n",
    "os.chdir(\"diffusion_memorization_replication\")"
   ]
  },
  {
   "metadata": {},
   "cell_type": "code",
   "outputs": [],
   "execution_count": null,
   "source": "!python detect_mem.py --run_name memorized_prompts --dataset examples/sdv1_500_memorized.jsonl --end 2 --gen_seed 0",
   "id": "f968df816e74ce8e"
  }
 ],
 "metadata": {
  "kernelspec": {
   "display_name": "Python 3",
   "language": "python",
   "name": "python3"
  },
  "language_info": {
   "codemirror_mode": {
    "name": "ipython",
    "version": 2
   },
   "file_extension": ".py",
   "mimetype": "text/x-python",
   "name": "python",
   "nbconvert_exporter": "python",
   "pygments_lexer": "ipython2",
   "version": "2.7.6"
  }
 },
 "nbformat": 4,
 "nbformat_minor": 5
}
